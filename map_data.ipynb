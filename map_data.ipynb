{
 "cells": [
  {
   "cell_type": "code",
   "execution_count": null,
   "id": "601dd512",
   "metadata": {
    "vscode": {
     "languageId": "plaintext"
    }
   },
   "outputs": [],
   "source": [
    "import pandas as pd\n",
    "import matplotlib.pyplot as plt\n",
    "import cartopy.crs as ccrs\n",
    "import cartopy.feature as cfeature\n",
    "from cartopy.io.shapereader import natural_earth\n",
    "import matplotlib.cm as cm\n",
    "import matplotlib.colors as mcolors\n",
    "from cartopy.io import shapereader"
   ]
  },
  {
   "cell_type": "code",
   "execution_count": null,
   "id": "d106b20a",
   "metadata": {
    "vscode": {
     "languageId": "plaintext"
    }
   },
   "outputs": [],
   "source": [
    "# Load your CSV (replace path if needed)\n",
    "df = pd.read_csv(\"global-hunger-index.csv\")\n",
    "\n",
    "# Filter for 2021 only\n",
    "df_2021 = df[df['Year'] == 2021].copy()\n",
    "\n",
    "# Clean up weird values if needed (optional, handle missing GHI as NaN)\n",
    "df_2021['Global Hunger Index (2021)'] = pd.to_numeric(df_2021['Global Hunger Index (2021)'], errors='coerce')\n",
    "\n",
    "# Build a dictionary mapping country ISO codes to GHI\n",
    "ghi_map = dict(zip(df_2021['Code'], df_2021['Global Hunger Index (2021)']))\n",
    "\n",
    "# Set up color normalization\n",
    "norm = mcolors.Normalize(vmin=0, vmax=60)\n",
    "cmap = plt.colormaps['YlOrRd']\n",
    "\n",
    "# Setup the map\n",
    "fig = plt.figure(figsize=(15, 8))\n",
    "ax = plt.axes(projection=ccrs.PlateCarree())\n",
    "ax.set_global()\n",
    "ax.coastlines()\n",
    "ax.add_feature(cfeature.BORDERS, linewidth=0.5)\n",
    "ax.set_title('Global Hunger Index (2021)', fontsize=16)\n",
    "ax.stock_img()  # Adds Blue Marble\n",
    "\n",
    "from cartopy.io import shapereader\n",
    "\n",
    "# Get Natural Earth shapefile path (countries, 110m resolution)\n",
    "shpfilename = shapereader.natural_earth(\n",
    "    resolution='110m',\n",
    "    category='cultural',\n",
    "    name='admin_0_countries'\n",
    ")\n",
    "\n",
    "# Read country geometries and draw them\n",
    "reader = shapereader.Reader(shpfilename)\n",
    "countries = reader.records()\n",
    "\n",
    "for country in countries:\n",
    "    iso_a3 = country.attributes.get('ADM0_A3')\n",
    "    ghi = ghi_map.get(iso_a3)\n",
    "    if ghi is not None:\n",
    "        color = cmap(norm(ghi))\n",
    "        ax.add_geometries(\n",
    "            [country.geometry],\n",
    "            crs=ccrs.PlateCarree(),\n",
    "            facecolor=color,\n",
    "            edgecolor='black',\n",
    "            linewidth=0.2\n",
    "        )\n",
    "\n",
    "\n",
    "# Add colorbar\n",
    "sm = cm.ScalarMappable(cmap=cmap, norm=norm)\n",
    "sm.set_array([])\n",
    "cbar = plt.colorbar(sm, ax=ax, orientation='horizontal', pad=0.05, aspect=50)\n",
    "\n",
    "cbar.set_label('Global Hunger Index (2021)')\n",
    "\n",
    "plt.tight_layout()\n",
    "plt.savefig(\"ghi_map_2021.png\", dpi=300)\n",
    "plt.show()"
   ]
  }
 ],
 "metadata": {
  "language_info": {
   "name": "python"
  }
 },
 "nbformat": 4,
 "nbformat_minor": 5
}
